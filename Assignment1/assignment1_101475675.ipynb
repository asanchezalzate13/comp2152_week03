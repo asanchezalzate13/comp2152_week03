{
 "cells": [
  {
   "cell_type": "code",
   "execution_count": null,
   "id": "initial_id",
   "metadata": {
    "collapsed": true
   },
   "outputs": [],
   "source": [
    "#Author Andres Sanchez Alzate\n",
    "# Assignment1\n",
    "gym_member = \"Alex Alliton\" # Variable 1 string\n",
    "preferred_weight_kg = 20.5 # Variable 2 float\n",
    "highest_reps = 25  # Variable 3 integer\n",
    "membership_active = True  # Variable 4 boolean\n",
    "\n",
    "# Defining dictionary\n",
    "workout_stats = {\n",
    "    \"Alex\": (30, 45, 20),\n",
    "    \"Jamie\": (25, 50, 15),\n",
    "    \"Taylor\": (40, 35, 30)\n",
    "}\n",
    "\n",
    "#total workout minutes calculation\n",
    "for friend, minutes in workout_stats.items():\n",
    "    total_minutes = sum(minutes)\n",
    "    workout_stats[f\"{friend}_Total\"] = total_minutes\n",
    "\n",
    "#workout_List list creation\n",
    "workout_list = [list(minutes) for friend, minutes in workout_stats.items() if \"_Total\" not in friend]\n",
    "\n",
    "#yoga and running minutes\n",
    "yogaRunning_minutes = [minutes[:2] for minutes in workout_list]\n",
    "print(\"Yoga and running minutes for all friends:\", yogaRunning_minutes)\n",
    "\n",
    "#weightlifting minutes\n",
    "weightlifting_minutes_last_two = [minutes[2] for minutes in workout_list[-2:]]\n",
    "print(\"Weightlifting minutes for the last two friends:\", weightlifting_minutes_last_two)\n",
    "\n",
    "#checks for 120 minutes or higher\n",
    "for friend, total_minutes in workout_stats.items():\n",
    "    if \"_Total\" in friend and total_minutes >= 120:\n",
    "        original_friend_name = friend.replace(\"_Total\", \"\")\n",
    "        print(f\"Great job staying active, {original_friend_name}!\")\n",
    "\n",
    "# Find the user by name\n",
    "user_friend_name = input(\"Enter a friend's name: \")\n",
    "if user_friend_name in workout_stats:\n",
    "    print(f\"{user_friend_name}'s workout minutes for each activity:\", workout_stats[user_friend_name])\n",
    "    print(f\"Total workout minutes: {workout_stats[f'{user_friend_name}_Total']}\")\n",
    "else:\n",
    "    print(f\"Friend {user_friend_name} not found in the records.\")\n",
    "\n",
    "#highest and lowest workout minutes\n",
    "friends_totals = {friend: total for friend, total in workout_stats.items() if \"_Total\" in friend}\n",
    "friend_highest_total = max(friends_totals, key=friends_totals.get).replace(\"_Total\", \"\")\n",
    "friend_lowest_total = min(friends_totals, key=friends_totals.get).replace(\"_Total\", \"\")\n",
    "\n",
    "print(f\"Friend with the highest total workout minutes: {friend_highest_total}\")\n",
    "print(f\"Friend with the lowest total workout minutes: {friend_lowest_total}\")"
   ]
  }
 ],
 "metadata": {
  "kernelspec": {
   "display_name": "Python 3",
   "language": "python",
   "name": "python3"
  },
  "language_info": {
   "codemirror_mode": {
    "name": "ipython",
    "version": 2
   },
   "file_extension": ".py",
   "mimetype": "text/x-python",
   "name": "python",
   "nbconvert_exporter": "python",
   "pygments_lexer": "ipython2",
   "version": "2.7.6"
  }
 },
 "nbformat": 4,
 "nbformat_minor": 5
}
